{
 "cells": [
  {
   "cell_type": "markdown",
   "id": "47ce9e20",
   "metadata": {},
   "source": [
    "# *PYTHON*"
   ]
  },
  {
   "cell_type": "markdown",
   "id": "148ff46d",
   "metadata": {},
   "source": [
    "![python](https://upload.wikimedia.org/wikipedia/commons/thumb/c/c3/Python-logo-notext.svg/100px-Python-logo-notext.svg.png)\n"
   ]
  },
  {
   "cell_type": "markdown",
   "id": "14e60792",
   "metadata": {},
   "source": [
    "**Python** is a programming language whose philosophy is related to the readability of codes. It could also be a multiparadigm programming language since it supports object-orientation, imperative programming, and functional programming. In a nutshell, Python is an interpreted, dynamic and cross-platform language, and is also classified as one of the most popular programming languages today."
   ]
  },
  {
   "cell_type": "markdown",
   "id": "a7442cee",
   "metadata": {},
   "source": [
    "![python](![python](https://upload.wikimedia.org/wikipedia/commons/thumb/9/94/Guido_van_Rossum_OSCON_2006_cropped.png/150px-Guido_van_Rossum_OSCON_2006_cropped.png)\n",
    "\n",
    "Python was created in the late 1980s by Guido van Rossum at the Center for\n",
    "Mathematics and Computer Science (CWI, Centrum Wiskunde & Informatica) he decided to start a project as a hobby giving continuity to ABC, a programming language developed in the CWI. ABC was developed in the early 80s as an alternative to BASIC, it was intended for beginners due to its ease of learning and use. His code was compact but readable.\n",
    "The project did not transcend as the hardware available at the time made it difficult to use. So Van Rossum gave it a second life by creating Python. The name of this programming language comes from the great love that the creator had for the British comedians Monty Python. Today Van Rossum continues to play the central role in deciding the direction of Python.\n",
    "\n",
    "In 1991, Van Rossum posted the code for version 0.9.0 on alt. sources. In this version, we already had classes with inheritance, exception handling, functions, and modular types available.\n",
    "\n",
    "In this version appears a module system adopted from Modula-3, a structured and modular programming language, which Guido describes as one of the largest Python programming units. For example, Python's exception model is similar to Modula-3\n",
    "\n",
    "In 1994 comp.lang.python was created, a Python discussion forum that marked a milestone in its popularity and multiplied its number of users.\n",
    "\n",
    "**VERSION 1.0**\n",
    "\n",
    "For this same year, Python reaches version 1.0 that included functional programming tools such as lambda, reduce, filter and map.\n",
    "Tools that came to the language thanks to a Lisp hacker, a family of multiparadigm computer programming languages.\n",
    "The last version released at CWI was Python 1.2, in 1995, Van Rossum continued his work at the Corporation for National Research (CNRI) in Virginia, where he released several versions of the language.\n",
    "For version 1.4, we see new features, many inspired by Modula-3, and also built-in support for complex numbers.\n",
    "By 2000, the core Python development team moved to BeOpen.com to form the BeOpen Python Labs team. CNRI requested that version 1.6 be released at the time the team left CNRI.\n",
    "Version 1.6 published on the CNRI includes a substantially longer license than the versions published on CWI. The new license included a clause indicating that it was governed by the laws of Virginia.\n",
    "The Free Software Foundation (FSF), a foundation created by Stallman to promote Free Software, argued that the clause was incompatible with the GNU GPL. So they agreed to change Python to a Free Software license, which would make it GPL compliant.\n",
    "Because of this, Python 1.6.1 is basically the same as 1.6, with a couple of bug fixes and a new GPL-compliant license.\n",
    "\n",
    "**VERSION 2.0**\n",
    "\n",
    "For Python 2.0, list generation was included, one of the most important features of the Haskell functional programming language. It also included a garbage collection system capable of collecting cyclical references.\n",
    "In 2001, the Python Software Foundation was created, which as of Python 2.1 owns all the code, documentation, and specifications of the language. The foundation was based on the Apache Software Foundation model.\n",
    "\n",
    "**VERSION 3.0**\n",
    "\n",
    "The last major Python update was in 2008 with Python 3.0 with the PEP 3000, designed to rectify fundamental flaws in the language design.\n",
    "\n",
    "\"Reduce feature duplication by removing old ways of doing things\"\n",
    "\n",
    "The philosophy of Python 3.0 is the same as previous versions, however, Python as a language has accumulated new and redundant ways of programming the same task.\n",
    "\n",
    "Python 3.0 has emphasized eliminating duplicate constructors and modules to comply with the \"have only one obvious way of doing things\" rule.\n",
    "\n",
    "The Python 3. x and Python 2. x versions were planned to coexist for several releases that were released in parallel, where Python 2.6 was released at the same time as 3.0, including new features and alerts that highlight the use of tools removed in version 3.0.\n",
    "\n",
    "Similarly, 2.7 was released at the same time as 3.1 and includes features from the new version, with 2.7 being the last release in the 2. x series, which currently only receives security updates and will no longer be supported in 2020.\n",
    "\n",
    "Python 3.0 breaks the backward compatibility of the language since Python 2. x code does not necessarily have to run on Python 3.0 without modification.\n",
    "![python](https://static.platzi.com/media/user_upload/Screenshot%202018-03-13%2013.04.50-622d164e-7d9c-4114-95f1-aedd94dfa836.jpg)"
   ]
  },
  {
   "cell_type": "markdown",
   "id": "480ed314",
   "metadata": {},
   "source": [
    "# Print statements"
   ]
  },
  {
   "cell_type": "markdown",
   "id": "9f3b28c6",
   "metadata": {},
   "source": [
    "![python](https://cdn.educba.com/academy/wp-content/uploads/2020/01/print-statement-in-python.jpg.webp)"
   ]
  },
  {
   "cell_type": "markdown",
   "id": "bdb8af4b",
   "metadata": {},
   "source": [
    "The print() function prints the specified message to the screen, or other standard output device.\n",
    "\n",
    "The message can be a string, or any other object, the object will be converted into a string before written to the screen.\n"
   ]
  },
  {
   "cell_type": "markdown",
   "id": "7a4b29ea",
   "metadata": {},
   "source": [
    "## Syntax:"
   ]
  },
  {
   "cell_type": "code",
   "execution_count": null,
   "id": "dc87e618",
   "metadata": {},
   "outputs": [],
   "source": [
    "print(*objects, sep=' ', end='\\n', file=sys.stdout, flush=False)"
   ]
  },
  {
   "cell_type": "markdown",
   "id": "0229454c",
   "metadata": {},
   "source": [
    "## Parameters of Print Statement"
   ]
  },
  {
   "cell_type": "markdown",
   "id": "254728f9",
   "metadata": {},
   "source": [
    "#### let us discuss its parameters in details:\n",
    "\n",
    "**objects:** This signifies the object to be printed, * indicates that there can be more than one object.\n",
    "\n",
    "**sep:** This signifies the separation which would be between the different objects. By default, this value is ‘‘.\n",
    "\n",
    "**end:** The value for this parameter is printed at last.\n",
    "\n",
    "**file:** It should be an object with a write(str) method. If this value is not mentioned, it prints objects on the standard output device, i.e. screen.\n",
    "\n",
    "**flush:** The stream gets forcibly flushed if this value is True. By default, this value is False."
   ]
  },
  {
   "cell_type": "markdown",
   "id": "8132e521",
   "metadata": {},
   "source": [
    "## Examples of Print Statement"
   ]
  },
  {
   "cell_type": "markdown",
   "id": "485ac74d",
   "metadata": {},
   "source": [
    "### 1. Calling Print Function\n",
    "\n",
    "To call the print function, we just need to write print followed by the parenthesis (). It tells Python that we are actually calling the function and not referring to it by its name. Just calling print() would produce an invisible newline character. But using Python String literal ‘\\n’ is a better option for printing a new line.\n",
    "\n",
    "### 2. Newlines\n",
    "\n",
    "**Code:**"
   ]
  },
  {
   "cell_type": "code",
   "execution_count": 4,
   "id": "1586ca61",
   "metadata": {},
   "outputs": [
    {
     "name": "stdout",
     "output_type": "stream",
     "text": [
      "Hello\n",
      "\n",
      "\n",
      "World\n"
     ]
    }
   ],
   "source": [
    "print(\"Hello\")\n",
    "print(\"\\n\")\n",
    "print(\"World\")"
   ]
  },
  {
   "cell_type": "markdown",
   "id": "e0b06f9b",
   "metadata": {},
   "source": [
    "**For Multiple Newlines:**\n",
    "\n",
    "**Code:**"
   ]
  },
  {
   "cell_type": "code",
   "execution_count": 5,
   "id": "610af859",
   "metadata": {},
   "outputs": [
    {
     "name": "stdout",
     "output_type": "stream",
     "text": [
      "Hello\n",
      "\n",
      "\n",
      "\n",
      "\n",
      "\n",
      "\n",
      "World\n"
     ]
    }
   ],
   "source": [
    "print(\"Hello\")\n",
    "print(5*\"\\n\")\n",
    "print(\"World\")"
   ]
  },
  {
   "cell_type": "markdown",
   "id": "6ca9642b",
   "metadata": {},
   "source": [
    "### 3. Sending Multiple Objects with Sep and End Parameters\n",
    "\n",
    "**Code:**"
   ]
  },
  {
   "cell_type": "code",
   "execution_count": 6,
   "id": "9c68e2c8",
   "metadata": {},
   "outputs": [
    {
     "name": "stdout",
     "output_type": "stream",
     "text": [
      "Hello World!!!"
     ]
    }
   ],
   "source": [
    "print('Hello','World',sep=' ',end='!!!')"
   ]
  },
  {
   "cell_type": "markdown",
   "id": "0c292c09",
   "metadata": {},
   "source": [
    "Here multiple objects are passed within the print function. The “sep” parameter has a value “ ” i.e. space, so there is space between the different objects, and the end parameter has a value “!!!” so the string ends with “!!!”."
   ]
  },
  {
   "cell_type": "markdown",
   "id": "591ccaf2",
   "metadata": {},
   "source": [
    "### 4. Using String Concatenation\n",
    "\n",
    "**Code:**"
   ]
  },
  {
   "cell_type": "code",
   "execution_count": 7,
   "id": "8850aa83",
   "metadata": {},
   "outputs": [
    {
     "name": "stdout",
     "output_type": "stream",
     "text": [
      "Hi Hello World!!!\n"
     ]
    }
   ],
   "source": [
    "string1 = \"Hi \"\n",
    "string2 = \"Hello \"\n",
    "string3 = \"World\"\n",
    "string4 = \"!!!\"\n",
    "print(string1+string2+string3+string4)"
   ]
  },
  {
   "cell_type": "markdown",
   "id": "bc4b21a0",
   "metadata": {},
   "source": [
    "### 5. String Concatenation of Different Datatype\n",
    "\n",
    "**Code:**"
   ]
  },
  {
   "cell_type": "code",
   "execution_count": 8,
   "id": "2ace82bc",
   "metadata": {},
   "outputs": [
    {
     "name": "stdout",
     "output_type": "stream",
     "text": [
      "<class 'datetime.datetime'>\n",
      "<class 'str'>\n"
     ]
    },
    {
     "ename": "TypeError",
     "evalue": "can only concatenate str (not \"datetime.datetime\") to str",
     "output_type": "error",
     "traceback": [
      "\u001b[1;31m---------------------------------------------------------------------------\u001b[0m",
      "\u001b[1;31mTypeError\u001b[0m                                 Traceback (most recent call last)",
      "\u001b[1;32m<ipython-input-8-c2071fcbbc8a>\u001b[0m in \u001b[0;36m<module>\u001b[1;34m\u001b[0m\n\u001b[0;32m      4\u001b[0m \u001b[0mprint\u001b[0m\u001b[1;33m(\u001b[0m\u001b[0mtype\u001b[0m\u001b[1;33m(\u001b[0m\u001b[0mnow\u001b[0m\u001b[1;33m)\u001b[0m\u001b[1;33m)\u001b[0m\u001b[1;33m\u001b[0m\u001b[1;33m\u001b[0m\u001b[0m\n\u001b[0;32m      5\u001b[0m \u001b[0mprint\u001b[0m\u001b[1;33m(\u001b[0m\u001b[0mtype\u001b[0m\u001b[1;33m(\u001b[0m\u001b[0mstring1\u001b[0m\u001b[1;33m)\u001b[0m\u001b[1;33m)\u001b[0m\u001b[1;33m\u001b[0m\u001b[1;33m\u001b[0m\u001b[0m\n\u001b[1;32m----> 6\u001b[1;33m \u001b[0mprint\u001b[0m\u001b[1;33m(\u001b[0m\u001b[0mstring1\u001b[0m\u001b[1;33m+\u001b[0m\u001b[0mnow\u001b[0m\u001b[1;33m)\u001b[0m\u001b[1;33m\u001b[0m\u001b[1;33m\u001b[0m\u001b[0m\n\u001b[0m",
      "\u001b[1;31mTypeError\u001b[0m: can only concatenate str (not \"datetime.datetime\") to str"
     ]
    }
   ],
   "source": [
    "import datetime\n",
    "now = datetime.datetime.now()\n",
    "string1 = \"Current time is \"\n",
    "print(type(now))\n",
    "print(type(string1))\n",
    "print(string1+now)"
   ]
  },
  {
   "cell_type": "markdown",
   "id": "810be442",
   "metadata": {},
   "source": [
    "Here when we are concatenating objects of different data types, then it is necessary to perform typecasting. Here the object now is of type datetime. Datetime and the object string is of type str hence the error. To fix this, we need to perform type casting like the following."
   ]
  },
  {
   "cell_type": "markdown",
   "id": "92f85da7",
   "metadata": {},
   "source": [
    "**Code:**"
   ]
  },
  {
   "cell_type": "code",
   "execution_count": 9,
   "id": "58dd3ca9",
   "metadata": {},
   "outputs": [
    {
     "name": "stdout",
     "output_type": "stream",
     "text": [
      "<class 'datetime.datetime'>\n",
      "<class 'str'>\n",
      "Current time is 2021-09-16 20:55:21.619063\n"
     ]
    }
   ],
   "source": [
    "import datetime\n",
    "now = datetime.datetime.now()\n",
    "string1 = \"Current time is \"\n",
    "print(type(now))\n",
    "print(type(string1))\n",
    "print(string1+str(now))"
   ]
  },
  {
   "cell_type": "markdown",
   "id": "cd61c985",
   "metadata": {},
   "source": [
    "### 6. Using f-strings for String Concatenation\n",
    "\n",
    "**Code:**"
   ]
  },
  {
   "cell_type": "code",
   "execution_count": 10,
   "id": "6b32cfd2",
   "metadata": {},
   "outputs": [
    {
     "name": "stdout",
     "output_type": "stream",
     "text": [
      "Current time is 2021-09-16 20:56:48.481881\n"
     ]
    }
   ],
   "source": [
    "import datetime\n",
    "now = datetime.datetime.now()\n",
    "print(f'Current time is {now}')"
   ]
  },
  {
   "cell_type": "markdown",
   "id": "42cdaedb",
   "metadata": {},
   "source": [
    "f-strings helps us to avoid a common mistake of forgetting to typecast concatenated operands. It was introduced in Python version 3.6"
   ]
  },
  {
   "cell_type": "markdown",
   "id": "c46de9c2",
   "metadata": {},
   "source": [
    "### 7. Using Positional Arguments\n",
    "\n",
    "**Code:** "
   ]
  },
  {
   "cell_type": "code",
   "execution_count": 11,
   "id": "50115384",
   "metadata": {},
   "outputs": [
    {
     "name": "stdout",
     "output_type": "stream",
     "text": [
      "Current time is 2021-09-16 21:00:22.905660\n"
     ]
    }
   ],
   "source": [
    "import datetime\n",
    "now = datetime.datetime.now()\n",
    "print('Current time is',now)"
   ]
  },
  {
   "cell_type": "markdown",
   "id": "fed79e73",
   "metadata": {},
   "source": [
    "Thus we see that using positional arguments and by the use of “,” we can concatenate objects without having to perform explicit typecasting or using f-strings."
   ]
  },
  {
   "cell_type": "markdown",
   "id": "63ebfb84",
   "metadata": {},
   "source": [
    "### 8. Using File Parameter\n",
    "\n",
    "**Code:**\n"
   ]
  },
  {
   "cell_type": "code",
   "execution_count": null,
   "id": "5cd95015",
   "metadata": {},
   "outputs": [],
   "source": [
    "srcFile = open('python.txt', 'w')\n",
    "print(‘This file is about Python', file = sourceFile)\n",
    "sourceFile.close() "
   ]
  },
  {
   "cell_type": "markdown",
   "id": "f1b0516a",
   "metadata": {},
   "source": [
    "**Output:**"
   ]
  },
  {
   "cell_type": "markdown",
   "id": "b59fe4ea",
   "metadata": {},
   "source": [
    "![python](https://cdn.educba.com/academy/wp-content/uploads/2020/01/Print-Statement-in-Python-1.9.png.webp)"
   ]
  },
  {
   "cell_type": "markdown",
   "id": "03ae69fb",
   "metadata": {},
   "source": [
    "Here the file parameter contains the file in which the text is to be written."
   ]
  },
  {
   "cell_type": "markdown",
   "id": "da5d7147",
   "metadata": {},
   "source": [
    "### 9. Printing None Constant\n",
    "\n",
    "**Code:**"
   ]
  },
  {
   "cell_type": "code",
   "execution_count": 13,
   "id": "e66aa900",
   "metadata": {},
   "outputs": [
    {
     "name": "stdout",
     "output_type": "stream",
     "text": [
      "None\n"
     ]
    }
   ],
   "source": [
    "print(None)"
   ]
  },
  {
   "cell_type": "markdown",
   "id": "93431e52",
   "metadata": {},
   "source": [
    "Despite being used to indicate an absence of a value, the None constant will show up as None as the output as shown above rather than an empty string."
   ]
  },
  {
   "cell_type": "markdown",
   "id": "f99bbe12",
   "metadata": {},
   "source": [
    "### 10. Printing User Custom Objects\n",
    "\n",
    "**Code:**"
   ]
  },
  {
   "cell_type": "code",
   "execution_count": null,
   "id": "0fa0adfe",
   "metadata": {},
   "outputs": [],
   "source": [
    "class Person:\n",
    "def __init__(self, name, age, gender):\n",
    "self.name, self.age, self.gender = name, age, gender\n",
    "jdoe = Person('Steve Smith', 35,'male')\n",
    "print(\"jdoe\")"
   ]
  },
  {
   "cell_type": "markdown",
   "id": "6f02acba",
   "metadata": {},
   "source": [
    "**Output:**"
   ]
  },
  {
   "cell_type": "markdown",
   "id": "f36ca40a",
   "metadata": {},
   "source": [
    "![python](https://cdn.educba.com/academy/wp-content/uploads/2020/01/Print-Statement-in-Python-1.10.png.webp)"
   ]
  },
  {
   "cell_type": "markdown",
   "id": "a4385061",
   "metadata": {},
   "source": [
    "Here we created a class named Person having attributes like name, age, and gender. We create an object of that class, and we can print that object as mentioned above."
   ]
  },
  {
   "cell_type": "markdown",
   "id": "906008c6",
   "metadata": {},
   "source": [
    "# **if-else statement**"
   ]
  },
  {
   "cell_type": "markdown",
   "id": "990c1536",
   "metadata": {},
   "source": [
    "The if-else statement is used to execute both the true part and the false part of a given condition. If the condition is true, the if block code is executed and if the condition is false, the else block code is executed.\n",
    "\n",
    "Syntax:\n",
    "if(condition):\n",
    "\n",
    "#Executes this block if the condition is true\n",
    "\n",
    "else:\n",
    "\n",
    "#Executes this block if the condition is false\n",
    "\n",
    "You should note here that Python uses indentation in both the blocks to define the scope of the code. Other programming languages often use curly brackets for this purpose.\n",
    "\n",
    "### Python Conditions and If statements\n",
    "\n",
    "Python supports the usual logical conditions from mathematics:\n",
    "\n",
    "Equals: a == b\n",
    "\n",
    "Not Equals: a != b\n",
    "\n",
    "Less than: a < b\n",
    "\n",
    "Less than or equal to: a <= b\n",
    "\n",
    "Greater than: a > b\n",
    "\n",
    "Greater than or equal to: a >= b\n",
    "\n",
    "These conditions can be used in several ways, most commonly in \"if statements\" and loops.\n",
    "\n",
    "An \"if statement\" is written by using the if keyword.\n",
    "\n",
    "Below is the entire workflow of how the if-else statement works.\n",
    "\n",
    "![python](https://www.simplilearn.com/ice9/free_resources_article_thumb/false.JPG)\n",
    "\n",
    "First, the test expression is checked. If it is true, the statements present in the body of the if block will execute. Next, the statements present below the if block is executed. In case the test expression has false results, the statements present in the else body are executed, and then the statements below the if-else are executed.\n",
    "![python](https://www.simplilearn.com/ice9/free_resources_article_thumb/ifblock-even.JPG)\n",
    "This is an example that better illustrates how if-else works:\n",
    "![python](https://www.simplilearn.com/ice9/free_resources_article_thumb/ifblock-odd.JPG)\n",
    "Since the value of “i” is divisible by two, the if statement is executed.\n",
    "\n",
    "Since the value of “i” is not divisible by two, the else statement is executed.\n",
    "\n",
    "Let us now look at what a nested IF statement is and how it works.\n"
   ]
  },
  {
   "cell_type": "markdown",
   "id": "09048f1d",
   "metadata": {},
   "source": [
    "# Loops"
   ]
  },
  {
   "cell_type": "markdown",
   "id": "8b9eda63",
   "metadata": {},
   "source": [
    "Python programming language provides following types of loops to handle looping requirements. Python provides three ways for executing the loops. While all the ways provide similar basic functionality, they differ in their syntax and condition checking time.\n",
    "\n",
    "### 1.While Loop: \n",
    "\n",
    "In python, while loop is used to execute a block of statements repeatedly until a given a condition is satisfied. And when the condition becomes false, the line immediately after the loop in program is executed. \n",
    "\n",
    "**Syntax :**\n",
    "\n",
    "while expression:\n",
    "\n",
    "    statement(s)\n",
    " All the statements indented by the same number of character spaces after a programming construct are considered to be             part of a single block of code. Python uses indentation as its method of grouping statements. \n",
    " \n",
    "            \n",
    " **Example:**\n",
    "            \n",
    "            \n"
   ]
  },
  {
   "cell_type": "code",
   "execution_count": 25,
   "id": "fd9e6498",
   "metadata": {},
   "outputs": [
    {
     "name": "stdout",
     "output_type": "stream",
     "text": [
      "Hello world\n",
      "Hello world\n",
      "Hello world\n"
     ]
    }
   ],
   "source": [
    "# Python program to illustrate\n",
    "# while loop\n",
    "count = 0\n",
    "while (count < 3):   \n",
    "    count = count + 1\n",
    "    print(\"Hello world\")"
   ]
  },
  {
   "cell_type": "markdown",
   "id": "40ea5a27",
   "metadata": {},
   "source": [
    "Using else statement with while loops: As discussed above, while loop executes the block until a condition is satisfied. When the condition becomes false, the statement immediately after the loop is executed. \n",
    "The else clause is only executed when your while condition becomes false. If you break out of the loop, or if an exception is raised, it won’t be executed. \n",
    "\n",
    "If else like this:\n",
    "\n",
    "if condition:\n",
    "\n",
    "    # execute these statements\n",
    "\n",
    "else:\n",
    "\n",
    "    # execute these statements\n",
    "    \n",
    "and while loop like this are similar\n",
    "\n",
    "while condition:\n",
    "\n",
    "     # execute these statements\n",
    "\n",
    "else:\n",
    "\n",
    "     # execute these statements"
   ]
  },
  {
   "cell_type": "code",
   "execution_count": 24,
   "id": "38a9ff1f",
   "metadata": {},
   "outputs": [
    {
     "name": "stdout",
     "output_type": "stream",
     "text": [
      "Hello world\n",
      "Hello world\n",
      "Hello world\n",
      "In Else Block\n"
     ]
    }
   ],
   "source": [
    "#Python program to illustrate\n",
    "# combining else with while\n",
    "count = 0\n",
    "while (count < 3):   \n",
    "    count = count + 1\n",
    "    print(\"Hello world\")\n",
    "else:\n",
    "    print(\"In Else Block\")"
   ]
  },
  {
   "cell_type": "markdown",
   "id": "18232e78",
   "metadata": {},
   "source": [
    "Single statement while block: Just like the if block, if the while block consists of a single statement the we can declare the entire loop in a single line as shown below:"
   ]
  },
  {
   "cell_type": "code",
   "execution_count": null,
   "id": "b3685477",
   "metadata": {},
   "outputs": [],
   "source": [
    "    # Python program to illustrate\n",
    "    # Single statement while block\n",
    "count = 0\n",
    "\n",
    "while (count == 0): print(\"Hello Geek\")"
   ]
  },
  {
   "cell_type": "markdown",
   "id": "828f3277",
   "metadata": {},
   "source": [
    "### 2.for in Loop:\n",
    "\n",
    "For loops are used for sequential traversal. For example: traversing a list or string or array etc. In Python, there is no C style for loop, i.e., for (i=0; i<n; i++). There is “for in” loop which is similar to for each loop in other languages. Let us learn how to use for in loop for sequential traversals.\n",
    "\n",
    "**Syntax:**\n",
    "\n",
    "for iterator_var in sequence:\n",
    "    statements(s)\n",
    "\n",
    "It can be used to iterate over a range and iterators."
   ]
  },
  {
   "cell_type": "code",
   "execution_count": 17,
   "id": "ce800e9f",
   "metadata": {},
   "outputs": [
    {
     "name": "stdout",
     "output_type": "stream",
     "text": [
      "0\n",
      "1\n",
      "2\n",
      "3\n"
     ]
    }
   ],
   "source": [
    "\n",
    "# Python program to illustrate\n",
    "# Iterating over range 0 to n-1\n",
    " \n",
    "n = 4\n",
    "for i in range(0, n):\n",
    "    print(i)"
   ]
  },
  {
   "cell_type": "code",
   "execution_count": 23,
   "id": "bd49458d",
   "metadata": {},
   "outputs": [
    {
     "name": "stdout",
     "output_type": "stream",
     "text": [
      "List Iteration\n",
      "javier\n",
      "for\n",
      "javier\n",
      "\n",
      "Tuple Iteration\n",
      "javier\n",
      "for\n",
      "javier\n",
      "\n",
      "String Iteration\n",
      "j\n",
      "a\n",
      "v\n",
      "i\n",
      "e\n",
      "r\n",
      "\n",
      "Dictionary Iteration\n",
      "xyz  123\n",
      "abc  345\n"
     ]
    }
   ],
   "source": [
    "# Python program to illustrate\n",
    "# Iterating over a list\n",
    "print(\"List Iteration\")\n",
    "l = [\"javier\", \"for\", \"javier\"]\n",
    "for i in l:\n",
    "    print(i)\n",
    "      \n",
    "# Iterating over a tuple (immutable)\n",
    "print(\"\\nTuple Iteration\")\n",
    "t = (\"javier\", \"for\", \"javier\")\n",
    "for i in t:\n",
    "    print(i)\n",
    "      \n",
    "# Iterating over a String\n",
    "print(\"\\nString Iteration\")   \n",
    "s = \"javier\"\n",
    "for i in s :\n",
    "    print(i)\n",
    "      \n",
    "# Iterating over dictionary\n",
    "print(\"\\nDictionary Iteration\")  \n",
    "d = dict()\n",
    "d['xyz'] = 123\n",
    "d['abc'] = 345\n",
    "for i in d :\n",
    "    print(\"%s  %d\" %(i, d[i]))"
   ]
  },
  {
   "cell_type": "markdown",
   "id": "8d1a4016",
   "metadata": {},
   "source": [
    "**Iterating by index of sequences:** We can also use the index of elements in the sequence to iterate. The key idea is to first calculate the length of the list and in iterate over the sequence within the range of this length.\n",
    "\n",
    "See the below example: "
   ]
  },
  {
   "cell_type": "code",
   "execution_count": 22,
   "id": "be52a179",
   "metadata": {},
   "outputs": [
    {
     "name": "stdout",
     "output_type": "stream",
     "text": [
      "dad\n",
      "for\n",
      "dad\n"
     ]
    }
   ],
   "source": [
    "# Python program to illustrate\n",
    "# Iterating by index\n",
    " \n",
    "list = [\"dad\", \"for\", \"dad\"]\n",
    "for index in range(len(list)):\n",
    "    print (list[index])"
   ]
  },
  {
   "cell_type": "markdown",
   "id": "7546ceb6",
   "metadata": {},
   "source": [
    "Using else statement with for loops: We can also combine else statement with for loop like in while loop. But as there is no condition in for loop based on which the execution will terminate so the else block will be executed immediately after for block finishes execution. \n",
    "\n",
    "Below example explains how to do this: "
   ]
  },
  {
   "cell_type": "code",
   "execution_count": 28,
   "id": "583fb5ac",
   "metadata": {},
   "outputs": [
    {
     "name": "stdout",
     "output_type": "stream",
     "text": [
      "javier\n",
      "for\n",
      "javier\n",
      "Inside Else Block\n"
     ]
    }
   ],
   "source": [
    "# Python program to illustrate\n",
    "# combining else with for\n",
    " \n",
    "list = [\"javier\", \"for\", \"javier\"]\n",
    "for index in range(len(list)):\n",
    "    print (list[index])\n",
    "else:\n",
    "    print (\"Inside Else Block\")"
   ]
  },
  {
   "cell_type": "markdown",
   "id": "3753a07a",
   "metadata": {},
   "source": [
    "**Nested Loops:** Python programming language allows to use one loop inside another loop. Following section shows few examples to illustrate the concept. \n",
    "\n",
    "**Syntax:** \n",
    "\n",
    "for iterator_var in sequence:\n",
    "\n",
    "    for iterator_var in sequence:\n",
    "        statements(s)\n",
    "        statements(s)\n",
    "        \n",
    "        \n",
    "The syntax for a nested while loop statement in Python programming language is as follows: \n",
    "\n",
    "while expression:\n",
    "\n",
    "    while expression:\n",
    "        statement(s)\n",
    "        statement(s)\n",
    "        \n",
    "A final note on loop nesting is that we can put any type of loop inside of any other type of loop. For example a for loop can be inside a while loop or vice versa."
   ]
  },
  {
   "cell_type": "code",
   "execution_count": 30,
   "id": "773dfb47",
   "metadata": {},
   "outputs": [
    {
     "name": "stdout",
     "output_type": "stream",
     "text": [
      "1 \n",
      "2 2 \n",
      "3 3 3 \n",
      "4 4 4 4 \n"
     ]
    }
   ],
   "source": [
    "# Python program to illustrate\n",
    "# nested for loops in Python\n",
    "from __future__ import print_function\n",
    "for i in range(1, 5):\n",
    "    for j in range(i):\n",
    "         print(i, end=' ')\n",
    "    print()"
   ]
  },
  {
   "cell_type": "markdown",
   "id": "0efa8fb6",
   "metadata": {},
   "source": [
    "**Loop Control Statements:**\n",
    "\n",
    "Loop control statements change execution from its normal sequence. When execution leaves a scope, all automatic objects that were created in that scope are destroyed. Python supports the following control statements. \n",
    "\n",
    "**Continue Statement:** It returns the control to the beginning of the loop."
   ]
  },
  {
   "cell_type": "code",
   "execution_count": 36,
   "id": "20055e9c",
   "metadata": {},
   "outputs": [
    {
     "name": "stdout",
     "output_type": "stream",
     "text": [
      "Current Letter : j\n",
      "Current Letter : a\n",
      "Current Letter : v\n",
      "Current Letter : i\n",
      "Current Letter : f\n",
      "Current Letter : o\n",
      "Current Letter : j\n",
      "Current Letter : a\n",
      "Current Letter : v\n",
      "Current Letter : i\n"
     ]
    }
   ],
   "source": [
    "\n",
    "# Prints all letters except 'e' and 's'\n",
    "for letter in 'javierforjavier':\n",
    "    if letter == 'e' or letter == 'r':\n",
    "         continue\n",
    "    print ('Current Letter :', letter)\n",
    "    var = 10"
   ]
  },
  {
   "cell_type": "markdown",
   "id": "016e50f4",
   "metadata": {},
   "source": [
    "**Break Statement:** It brings control out of the loop"
   ]
  },
  {
   "cell_type": "code",
   "execution_count": 38,
   "id": "104ffc8a",
   "metadata": {},
   "outputs": [
    {
     "name": "stdout",
     "output_type": "stream",
     "text": [
      "Current Letter : a\n"
     ]
    }
   ],
   "source": [
    "\n",
    "for letter in 'javierforjavier':\n",
    " \n",
    "    # break the loop as soon it sees 'e'\n",
    "    # or 's'\n",
    "    if letter == 'a' or letter == 'r':\n",
    "         break\n",
    " \n",
    "print ('Current Letter :', letter)"
   ]
  },
  {
   "cell_type": "markdown",
   "id": "cac8e2ce",
   "metadata": {},
   "source": [
    "**Pass Statement:** We use pass statement to write empty loops. Pass is also used for empty control statement, function and classes."
   ]
  },
  {
   "cell_type": "code",
   "execution_count": 39,
   "id": "c1652d54",
   "metadata": {},
   "outputs": [
    {
     "name": "stdout",
     "output_type": "stream",
     "text": [
      "Last Letter : r\n"
     ]
    }
   ],
   "source": [
    "\n",
    "# An empty loop\n",
    "for letter in 'javierforjavier':\n",
    "    pass\n",
    "print ('Last Letter :', letter)"
   ]
  },
  {
   "cell_type": "markdown",
   "id": "c32511a7",
   "metadata": {},
   "source": [
    "### How for loop in Python works internally?\n",
    "\n",
    "Firstly, lets see how a simple for loop looks like."
   ]
  },
  {
   "cell_type": "code",
   "execution_count": 40,
   "id": "0eeee924",
   "metadata": {},
   "outputs": [
    {
     "name": "stdout",
     "output_type": "stream",
     "text": [
      "apple\n",
      "orange\n",
      "kiwi\n"
     ]
    }
   ],
   "source": [
    "\n",
    "# A simple for loop example\n",
    " \n",
    "fruits = [\"apple\", \"orange\", \"kiwi\"]\n",
    " \n",
    "for fruit in fruits:\n",
    " \n",
    " print(fruit)"
   ]
  },
  {
   "cell_type": "markdown",
   "id": "f2ee0fe3",
   "metadata": {},
   "source": [
    "Here we can see the for loops iterates over a iterable object fruits which is a list. Lists, sets, dictionary these are few iterable objects while an integer object is not an iterable object.\n",
    "\n",
    "For loops can iterate over any iterable object (example: List, Set, Dictionary, Tuple or String)."
   ]
  },
  {
   "cell_type": "code",
   "execution_count": null,
   "id": "072732ee",
   "metadata": {},
   "outputs": [],
   "source": []
  }
 ],
 "metadata": {
  "kernelspec": {
   "display_name": "Python 3",
   "language": "python",
   "name": "python3"
  }
 },
 "nbformat": 4,
 "nbformat_minor": 5
}
